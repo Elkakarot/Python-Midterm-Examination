{
  "nbformat": 4,
  "nbformat_minor": 0,
  "metadata": {
    "colab": {
      "name": "John_Lester_Reyes_Exam_2.ipynb",
      "provenance": []
    },
    "kernelspec": {
      "name": "python3",
      "display_name": "Python 3"
    },
    "language_info": {
      "name": "python"
    }
  },
  "cells": [
    {
      "cell_type": "code",
      "execution_count": 1,
      "metadata": {
        "colab": {
          "base_uri": "https://localhost:8080/"
        },
        "id": "vbIDnwtbJZeb",
        "outputId": "f8148533-5665-4d5e-c4a0-aeec32a0a621"
      },
      "outputs": [
        {
          "output_type": "stream",
          "name": "stdout",
          "text": [
            "1 is odd\n",
            "2 is even\n",
            "3 is odd\n",
            "4 is even\n",
            "5 is odd\n",
            "6 is even\n"
          ]
        }
      ],
      "source": [
        "numbers = [1, 2, 3, 4, 5, 6]\n",
        "\n",
        "for number in numbers:\n",
        "  if(number%2) == 0:\n",
        "    print(f\"{number} is even\")\n",
        "  else:\n",
        "    print(f\"{number} is odd\")  "
      ]
    },
    {
      "cell_type": "markdown",
      "source": [
        "the code function is to print the following numbers then tell if they are odd or even numbers."
      ],
      "metadata": {
        "id": "s99o5RLeJ8GK"
      }
    },
    {
      "cell_type": "code",
      "source": [
        "numbers = [1, 2, 3, 4, 5, 6]\n",
        "evens = [ ]\n",
        "odds = [ ]\n",
        "\n",
        "for number in numbers: \n",
        "  if (number%2) == 0:\n",
        "    evens.append(number)\n",
        "\n",
        "for number in numbers:\n",
        "   if (number%2) != 0:\n",
        "     odds.append(number)\n",
        "\n",
        "print(evens)   \n",
        "print(odds)  "
      ],
      "metadata": {
        "colab": {
          "base_uri": "https://localhost:8080/"
        },
        "id": "2PX9K49sKDLh",
        "outputId": "39a9e7e1-7528-453e-9c72-403fd8eba098"
      },
      "execution_count": 2,
      "outputs": [
        {
          "output_type": "stream",
          "name": "stdout",
          "text": [
            "[2, 4, 6]\n",
            "[1, 3, 5]\n"
          ]
        }
      ]
    },
    {
      "cell_type": "markdown",
      "source": [
        "the code function is the same in the previous code but the output is different."
      ],
      "metadata": {
        "id": "052eWCcxKL1B"
      }
    },
    {
      "cell_type": "code",
      "source": [
        "numbers = [1, 2, 3, 4, 5, 6]\n",
        "doubles = [ ]\n",
        "for number in numbers:\n",
        "  number*= 2\n",
        "  doubles.append(number)\n",
        "print(doubles)"
      ],
      "metadata": {
        "colab": {
          "base_uri": "https://localhost:8080/"
        },
        "id": "zS0OZrNWKX8e",
        "outputId": "8c787f7f-7cfc-47f3-e964-a37b36563a89"
      },
      "execution_count": 3,
      "outputs": [
        {
          "output_type": "stream",
          "name": "stdout",
          "text": [
            "[2, 4, 6, 8, 10, 12]\n"
          ]
        }
      ]
    },
    {
      "cell_type": "markdown",
      "source": [
        "the code function it to print the numbers but it will double the values."
      ],
      "metadata": {
        "id": "5RGoNW_yKcso"
      }
    },
    {
      "cell_type": "code",
      "source": [
        "numbers = [1, 2, 3, 4, 5, 6]\n",
        "\n",
        "evens = [number for number in numbers if (number % 2) == 0]\n",
        "odds = [number for number in numbers if (number % 2) != 0]\n",
        "\n",
        "print(evens)\n",
        "print(odds)"
      ],
      "metadata": {
        "colab": {
          "base_uri": "https://localhost:8080/"
        },
        "id": "yIy1UHK8KlRQ",
        "outputId": "3fe07ad8-9212-4486-a0f9-a2b4b4493a63"
      },
      "execution_count": 4,
      "outputs": [
        {
          "output_type": "stream",
          "name": "stdout",
          "text": [
            "[2, 4, 6]\n",
            "[1, 3, 5]\n"
          ]
        }
      ]
    },
    {
      "cell_type": "markdown",
      "source": [
        "the code functions is the same in the 1st codes but different in codes."
      ],
      "metadata": {
        "id": "PCRAs6guKqf1"
      }
    },
    {
      "cell_type": "code",
      "source": [
        "numbers = [1, 2, 3, 4, 5, 6]\n",
        "doubles = [number * 2 for number in numbers]\n",
        "print(doubles)"
      ],
      "metadata": {
        "colab": {
          "base_uri": "https://localhost:8080/"
        },
        "id": "Ji6bbSpYKzOn",
        "outputId": "ff636cb2-fdea-48d3-f3fb-d4121b5580d2"
      },
      "execution_count": 5,
      "outputs": [
        {
          "output_type": "stream",
          "name": "stdout",
          "text": [
            "[2, 4, 6, 8, 10, 12]\n"
          ]
        }
      ]
    },
    {
      "cell_type": "markdown",
      "source": [
        "the code functions is the same in the 2nd previous code but different in codes."
      ],
      "metadata": {
        "id": "6nkpLjCeK4BJ"
      }
    },
    {
      "cell_type": "code",
      "source": [
        "name_lengths = []\n",
        "names = [\"alice\", \"bob\", \"carol\"]\n",
        "name_lengths = [len(name) for name in names]\n",
        "\n",
        "print(name_lengths)"
      ],
      "metadata": {
        "colab": {
          "base_uri": "https://localhost:8080/"
        },
        "id": "mketFVGvLAHA",
        "outputId": "ef8d5a9b-0a90-4ac6-8226-18869173b40e"
      },
      "execution_count": 7,
      "outputs": [
        {
          "output_type": "stream",
          "name": "stdout",
          "text": [
            "[5, 3, 5]\n"
          ]
        }
      ]
    },
    {
      "cell_type": "markdown",
      "source": [
        "the code functions is to print the names lenghts."
      ],
      "metadata": {
        "id": "uz0ZXI70LR56"
      }
    },
    {
      "cell_type": "code",
      "source": [
        "record = [\"alice\", 5]\n",
        "\n",
        "name, length = record\n",
        "print(f\"{name} have a length of {length}\")"
      ],
      "metadata": {
        "colab": {
          "base_uri": "https://localhost:8080/"
        },
        "id": "3m_lFk4wLV86",
        "outputId": "70e8083f-4990-437a-bd19-65cdd59c7ddb"
      },
      "execution_count": 10,
      "outputs": [
        {
          "output_type": "stream",
          "name": "stdout",
          "text": [
            "alice have a length of 5\n"
          ]
        }
      ]
    },
    {
      "cell_type": "markdown",
      "source": [
        "the code function is to determine the names lenght."
      ],
      "metadata": {
        "id": "8CpT-JfzLc9q"
      }
    },
    {
      "cell_type": "code",
      "source": [
        "records = [\n",
        "           [\"alice\", 5],\n",
        "           [\"bob\", 3],\n",
        "           [\"carol\", 5],\n",
        "]\n",
        "for name, length in records:\n",
        "  print(f\"{name} have a length of {length}\")"
      ],
      "metadata": {
        "colab": {
          "base_uri": "https://localhost:8080/"
        },
        "id": "l5CLomcgLlVo",
        "outputId": "013a9cd0-6cd3-4f8c-d820-75e383fc1c29"
      },
      "execution_count": 11,
      "outputs": [
        {
          "output_type": "stream",
          "name": "stdout",
          "text": [
            "alice have a length of 5\n",
            "bob have a length of 3\n",
            "carol have a length of 5\n"
          ]
        }
      ]
    },
    {
      "cell_type": "markdown",
      "source": [
        "the code function is the same in the previous code but more names are added to determine the names length."
      ],
      "metadata": {
        "id": "e8NMYbMQLpWT"
      }
    },
    {
      "cell_type": "code",
      "source": [
        "names = [\"alice\", \"bob\", \"carol\"]\n",
        "name_lengths = [5, 3, 5]\n",
        "\n",
        "for name, length in zip(names, name_lengths):\n",
        "  print(f\"{name} have a length of {length}\")\n",
        "\n",
        "print(zip(names, name_lengths))  \n",
        "print(list(zip(names, name_lengths)))"
      ],
      "metadata": {
        "colab": {
          "base_uri": "https://localhost:8080/"
        },
        "id": "w-MeHr4pL0Co",
        "outputId": "827453fe-befc-4abe-e693-d437956f8e7a"
      },
      "execution_count": 13,
      "outputs": [
        {
          "output_type": "stream",
          "name": "stdout",
          "text": [
            "alice have a length of 5\n",
            "bob have a length of 3\n",
            "carol have a length of 5\n",
            "<zip object at 0x7fa03c5dab90>\n",
            "[('alice', 5), ('bob', 3), ('carol', 5)]\n"
          ]
        }
      ]
    },
    {
      "cell_type": "code",
      "source": [
        "names = [\"alice\", \"bob\", \"carol\", \"marvin\"]\n",
        "name_lengths = [5, 3, 5]\n",
        "genders = [\"female\", \"male\", \"female\"]\n",
        "ages = [15, 22, 24]\n",
        "\n",
        "for name, length, gender, age in zip(names, name_lengths, genders, ages):\n",
        "  print(f\"{name} have a length of {length}. They are {gender}. Ages are {age}\")\n",
        "print(filter)"
      ],
      "metadata": {
        "colab": {
          "base_uri": "https://localhost:8080/"
        },
        "id": "lqjk-KrQMcca",
        "outputId": "696557e4-4fa1-4b3a-f78e-94e8454cab9c"
      },
      "execution_count": 14,
      "outputs": [
        {
          "output_type": "stream",
          "name": "stdout",
          "text": [
            "alice have a length of 5. They are female. Ages are 15\n",
            "bob have a length of 3. They are male. Ages are 22\n",
            "carol have a length of 5. They are female. Ages are 24\n",
            "<class 'filter'>\n"
          ]
        }
      ]
    }
  ]
}