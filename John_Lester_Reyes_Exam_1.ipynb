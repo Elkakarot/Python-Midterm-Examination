{
  "nbformat": 4,
  "nbformat_minor": 0,
  "metadata": {
    "colab": {
      "name": "John_Lester_Reyes_Exam_1.ipynb",
      "provenance": [],
      "collapsed_sections": []
    },
    "kernelspec": {
      "name": "python3",
      "display_name": "Python 3"
    },
    "language_info": {
      "name": "python"
    }
  },
  "cells": [
    {
      "cell_type": "markdown",
      "source": [
        "This is Part 1 of the Midterm Exams"
      ],
      "metadata": {
        "id": "OVKNJxbr3mO3"
      }
    },
    {
      "cell_type": "code",
      "execution_count": 1,
      "metadata": {
        "colab": {
          "base_uri": "https://localhost:8080/"
        },
        "id": "UBpyYjFV3Vhj",
        "outputId": "db1c593b-2982-41f0-d0e8-854e083cda85"
      },
      "outputs": [
        {
          "output_type": "stream",
          "name": "stdout",
          "text": [
            "['Batman', 'Superman', 'Spiderman']\n",
            "0\n",
            "Batman\n",
            "Wonderwoman\n",
            "0\n",
            "['Superman', 'Spiderman', 'Wonderwoman']\n"
          ]
        }
      ],
      "source": [
        "heroes = ['Batman', 'Superman', 'Spiderman']\n",
        "print(heroes)\n",
        "print(heroes.index('Batman'))\n",
        "print(heroes[0])\n",
        "heroes.append('Wonderwoman')\n",
        "heroes.remove('Batman')\n",
        "print(heroes[2])\n",
        "print(heroes.index('Superman'))\n",
        "print(heroes)"
      ]
    },
    {
      "cell_type": "markdown",
      "source": [
        "i found the error in this code and it's the numbersign or what's called hashtag then the code print the following word or hero names.\n"
      ],
      "metadata": {
        "id": "_VD4Cber4sx_"
      }
    },
    {
      "cell_type": "code",
      "source": [
        "heroes = ['Batman', 'Superman', 'Spiderman']\n",
        "print('Batman' in heroes)\n",
        "print('Ironman' not in heroes)\n",
        "hero = 'Superman'\n",
        "print(hero in heroes)\n",
        "print('Ironman' not in ['Captain America', 'Ironman', 'Hulk'])"
      ],
      "metadata": {
        "colab": {
          "base_uri": "https://localhost:8080/"
        },
        "id": "XZGN5_wD5B68",
        "outputId": "ecd7d0ff-f602-48b3-e5b2-9affa0c8098a"
      },
      "execution_count": 2,
      "outputs": [
        {
          "output_type": "stream",
          "name": "stdout",
          "text": [
            "True\n",
            "True\n",
            "True\n",
            "False\n"
          ]
        }
      ]
    },
    {
      "cell_type": "markdown",
      "source": [
        "the errors in this code is the same in the 1st code which is the hashtags or numbersigns then the code excuted the boolean function.\n"
      ],
      "metadata": {
        "id": "JFe0nGDP6CZ-"
      }
    },
    {
      "cell_type": "code",
      "source": [
        "heroes1 = ['Batman', 'Superman', 'Spiderman']\n",
        "heroes2 = ['Captain America', 'Ironman', 'Hulk']\n",
        "print(heroes1 + heroes2)\n",
        "heroes = heroes1 + heroes2\n",
        "heroes2.remove('Hulk')\n",
        "print(heroes1 + heroes2)"
      ],
      "metadata": {
        "colab": {
          "base_uri": "https://localhost:8080/"
        },
        "id": "QKgtfx386avk",
        "outputId": "9d9fa2ab-450e-4711-8c1b-822e4d21263b"
      },
      "execution_count": 5,
      "outputs": [
        {
          "output_type": "stream",
          "name": "stdout",
          "text": [
            "['Batman', 'Superman', 'Spiderman', 'Captain America', 'Ironman', 'Hulk']\n",
            "['Batman', 'Superman', 'Spiderman', 'Captain America', 'Ironman']\n"
          ]
        }
      ]
    },
    {
      "cell_type": "markdown",
      "source": [
        "the code error is the same again in the previous codes and it's the hashtag or numbersign then in the last code there is missing function that's why i add them then the code excuted perfectly.\n"
      ],
      "metadata": {
        "id": "DZZWD2H97Toc"
      }
    },
    {
      "cell_type": "code",
      "source": [
        "heroes = ['Batman', 'Superman', 'Spiderman', 'Captain America', 'Ironman', 'Hulk']\n",
        "heroes.sort()\n",
        "print(heroes)"
      ],
      "metadata": {
        "colab": {
          "base_uri": "https://localhost:8080/"
        },
        "id": "h9gjf-Iu7srZ",
        "outputId": "8e9ab3b7-2d71-4bfe-ae5a-9600ffb73181"
      },
      "execution_count": 6,
      "outputs": [
        {
          "output_type": "stream",
          "name": "stdout",
          "text": [
            "['Batman', 'Captain America', 'Hulk', 'Ironman', 'Spiderman', 'Superman']\n"
          ]
        }
      ]
    },
    {
      "cell_type": "markdown",
      "source": [
        "the code error is the hashtag i remove it and then the code excuted then print the following heroes"
      ],
      "metadata": {
        "id": "TbqdS0LnACb9"
      }
    },
    {
      "cell_type": "code",
      "source": [
        "heroes = ['Batman', 'Superman', 'Spiderman', 'Captain America', 'Ironman', 'Hulk']\n",
        "heroes.reverse()\n",
        "print(heroes)"
      ],
      "metadata": {
        "colab": {
          "base_uri": "https://localhost:8080/"
        },
        "id": "zL4rq2HHAWON",
        "outputId": "4ea68de3-5525-4c42-952e-ddb613d91c84"
      },
      "execution_count": 7,
      "outputs": [
        {
          "output_type": "stream",
          "name": "stdout",
          "text": [
            "['Hulk', 'Ironman', 'Captain America', 'Spiderman', 'Superman', 'Batman']\n"
          ]
        }
      ]
    },
    {
      "cell_type": "markdown",
      "source": [
        "the code function is by printing the following heroes but in reverse order."
      ],
      "metadata": {
        "id": "yPcO6OXuAd_-"
      }
    },
    {
      "cell_type": "code",
      "source": [
        "heroes = ['Batman', 'Superman', 'Spiderman', 'Captain America', 'Ironman', 'Hulk']\n",
        "print(sorted(heroes))\n",
        "print(list(reversed(heroes)))\n",
        "print(heroes)"
      ],
      "metadata": {
        "colab": {
          "base_uri": "https://localhost:8080/"
        },
        "id": "ndeEUBhVAxgO",
        "outputId": "64552abd-09f9-42d7-9e9b-93f3da939c29"
      },
      "execution_count": 8,
      "outputs": [
        {
          "output_type": "stream",
          "name": "stdout",
          "text": [
            "['Batman', 'Captain America', 'Hulk', 'Ironman', 'Spiderman', 'Superman']\n",
            "['Hulk', 'Ironman', 'Captain America', 'Spiderman', 'Superman', 'Batman']\n",
            "['Batman', 'Superman', 'Spiderman', 'Captain America', 'Ironman', 'Hulk']\n"
          ]
        }
      ]
    },
    {
      "cell_type": "markdown",
      "source": [
        "the code function is printing the following values by order then the next column is by reverse order and the last is the original order."
      ],
      "metadata": {
        "id": "Nr_Olq1ZBPkF"
      }
    },
    {
      "cell_type": "code",
      "source": [
        "heroes = ['Batman', 'Superman', 'Spiderman', 'Captain America', 'Ironman', 'Hulk']\n",
        "for hero in heroes:\n",
        "  print(f\"my hero is {hero}\")"
      ],
      "metadata": {
        "colab": {
          "base_uri": "https://localhost:8080/"
        },
        "id": "MXp7frBTB8yy",
        "outputId": "92ef8295-b820-431c-92cc-74a66e6df235"
      },
      "execution_count": 9,
      "outputs": [
        {
          "output_type": "stream",
          "name": "stdout",
          "text": [
            "my hero is Batman\n",
            "my hero is Superman\n",
            "my hero is Spiderman\n",
            "my hero is Captain America\n",
            "my hero is Ironman\n",
            "my hero is Hulk\n"
          ]
        }
      ]
    },
    {
      "cell_type": "markdown",
      "source": [
        "the code function is printing all the heroes and the sentence that's start with \"my hero is\"."
      ],
      "metadata": {
        "id": "TD2hAvEYCdOu"
      }
    },
    {
      "cell_type": "code",
      "source": [
        "heroes = ['Batman', 'Superman', 'Spiderman', 'Captain America', 'Ironman', 'Hulk']\n",
        "for hero in heroes:\n",
        "  print(\"my hero is {}\".format(hero))"
      ],
      "metadata": {
        "colab": {
          "base_uri": "https://localhost:8080/"
        },
        "id": "vbJ-IKRGCrT8",
        "outputId": "ea466e61-d8c5-4f07-f209-9cd94557e373"
      },
      "execution_count": 10,
      "outputs": [
        {
          "output_type": "stream",
          "name": "stdout",
          "text": [
            "my hero is Batman\n",
            "my hero is Superman\n",
            "my hero is Spiderman\n",
            "my hero is Captain America\n",
            "my hero is Ironman\n",
            "my hero is Hulk\n"
          ]
        }
      ]
    },
    {
      "cell_type": "markdown",
      "source": [
        "the code function is not the same with the previous code but it has the same output."
      ],
      "metadata": {
        "id": "T1qfC2wkC4hc"
      }
    },
    {
      "cell_type": "code",
      "source": [
        "numbers = [1, 2, 3, 4, 5, 6]\n",
        "total = 0\n",
        "for number in numbers:\n",
        "  total = total + number\n",
        "  print(total)"
      ],
      "metadata": {
        "colab": {
          "base_uri": "https://localhost:8080/"
        },
        "id": "y2pWctoNC_YD",
        "outputId": "844d53ef-ad27-4bc6-f156-d1d59c03a62f"
      },
      "execution_count": 11,
      "outputs": [
        {
          "output_type": "stream",
          "name": "stdout",
          "text": [
            "1\n",
            "3\n",
            "6\n",
            "10\n",
            "15\n",
            "21\n"
          ]
        }
      ]
    },
    {
      "cell_type": "markdown",
      "source": [
        "the code function is to add the numbers by their position and print the total."
      ],
      "metadata": {
        "id": "Ro-elb3dDEzd"
      }
    },
    {
      "cell_type": "code",
      "source": [
        "numbers = [1, 2, 3, 4, 5, 6]\n",
        "total = sum(numbers)\n",
        "print(total)"
      ],
      "metadata": {
        "colab": {
          "base_uri": "https://localhost:8080/"
        },
        "id": "lXraAZ9cDi36",
        "outputId": "f4923969-d915-47eb-8b1e-6e1ecf233ffe"
      },
      "execution_count": 12,
      "outputs": [
        {
          "output_type": "stream",
          "name": "stdout",
          "text": [
            "21\n"
          ]
        }
      ]
    },
    {
      "cell_type": "markdown",
      "source": [
        "the code function is by adding all the numbers then print the total."
      ],
      "metadata": {
        "id": "tGarfp3IEOzt"
      }
    },
    {
      "cell_type": "code",
      "source": [
        "age = input(\"Type your age: \")\n",
        "age = int(age)\n",
        "if age >= 100:\n",
        "  print(\"That is not a valid age\")\n",
        "elif age >= 18:\n",
        "  print(\"You are old enough to drive\")\n",
        "elif age <= 0:\n",
        "  print(\"That is not a valid age\")\n",
        "else:\n",
        "   print(\"You are old enough to drive\")  "
      ],
      "metadata": {
        "colab": {
          "base_uri": "https://localhost:8080/"
        },
        "id": "uTVowE8_EUry",
        "outputId": "4337dd61-ff5b-422a-9531-c9fd12fd9afd"
      },
      "execution_count": 13,
      "outputs": [
        {
          "output_type": "stream",
          "name": "stdout",
          "text": [
            "Type your age: 21\n",
            "You are old enough to drive\n"
          ]
        }
      ]
    },
    {
      "cell_type": "markdown",
      "source": [
        "the code function is to verify if you are old enough to drive but if you are below the minimum requirements it will display a not valid age."
      ],
      "metadata": {
        "id": "C3623OyyEgsJ"
      }
    },
    {
      "cell_type": "code",
      "source": [
        "age = input(\"Type your age: \")\n",
        "age = int(age)\n",
        "if age >= 100 or age <= 0:\n",
        "  print(\"That is not a valid age\")\n",
        "elif age >= 18:\n",
        "  print(\"You are old enough to drive\")\n",
        "else:\n",
        "   print(\"You are old enough to drive\")  "
      ],
      "metadata": {
        "colab": {
          "base_uri": "https://localhost:8080/"
        },
        "id": "-M2LXxtKEwVk",
        "outputId": "e34c2c90-564b-4e6e-d51a-5e4a3d94de06"
      },
      "execution_count": 14,
      "outputs": [
        {
          "output_type": "stream",
          "name": "stdout",
          "text": [
            "Type your age: 22\n",
            "You are old enough to drive\n"
          ]
        }
      ]
    },
    {
      "cell_type": "markdown",
      "source": [
        "the code function and output is the same in  the previous code but the code is different."
      ],
      "metadata": {
        "id": "VLgMdXJ6FWdl"
      }
    },
    {
      "cell_type": "code",
      "source": [
        "numbers = [200, 100, 43, 10, -10, 0]\n",
        "for number in numbers:\n",
        "  if number > 100:\n",
        "    print(f\"{number} is greater than 100\")\n",
        "  elif number <100:\n",
        "    print(f\"{number} is less than 100\") "
      ],
      "metadata": {
        "colab": {
          "base_uri": "https://localhost:8080/"
        },
        "id": "6HT2zpv6F2iL",
        "outputId": "98533cbf-fcb5-4ca2-c5ce-aaa77832c56b"
      },
      "execution_count": 15,
      "outputs": [
        {
          "output_type": "stream",
          "name": "stdout",
          "text": [
            "200 is greater than 100\n",
            "43 is less than 100\n",
            "10 is less than 100\n",
            "-10 is less than 100\n",
            "0 is less than 100\n"
          ]
        }
      ]
    },
    {
      "cell_type": "markdown",
      "source": [
        "the code function is to print if the number is less than or greater than."
      ],
      "metadata": {
        "id": "jWDTzHM3GE3J"
      }
    },
    {
      "cell_type": "code",
      "source": [
        "numbers = [200, 100, 43, 10, -10, 0]\n",
        "filtered = []\n",
        "\n",
        "for number in numbers:\n",
        "  if number > 30:\n",
        "    filtered.append(number)\n",
        "\n",
        "print(filtered)  "
      ],
      "metadata": {
        "colab": {
          "base_uri": "https://localhost:8080/"
        },
        "id": "daA37PpZGRuv",
        "outputId": "72f2a816-f2a5-4db6-f89a-9cd51eedb55e"
      },
      "execution_count": 16,
      "outputs": [
        {
          "output_type": "stream",
          "name": "stdout",
          "text": [
            "[200, 100, 43]\n"
          ]
        }
      ]
    },
    {
      "cell_type": "markdown",
      "source": [
        "the code function is to print the following number but filtered."
      ],
      "metadata": {
        "id": "v11Q7C6_GbYW"
      }
    }
  ]
}